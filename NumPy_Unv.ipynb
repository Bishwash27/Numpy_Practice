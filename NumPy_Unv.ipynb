{
 "cells": [
  {
   "cell_type": "code",
   "execution_count": 2,
   "id": "9756e499",
   "metadata": {},
   "outputs": [],
   "source": [
    "import numpy as np"
   ]
  },
  {
   "cell_type": "code",
   "execution_count": 247,
   "id": "e4553772",
   "metadata": {},
   "outputs": [],
   "source": [
    "#NUMPY ARRAY\n",
    "\n",
    "a = np.array([1, 2, 3])     #1D Array -> vector\n",
    "b = np.array([[1, 2, 3] , [3, 4, 5]])     #2D Array -> matrix of size 2*3\n",
    "print(type(a))"
   ]
  },
  {
   "cell_type": "code",
   "execution_count": 313,
   "id": "a5311b00",
   "metadata": {},
   "outputs": [
    {
     "name": "stdout",
     "output_type": "stream",
     "text": [
      "[[[1 2]\n",
      "  [4 5]]\n",
      "\n",
      " [[6 7]\n",
      "  [8 9]]]\n"
     ]
    }
   ],
   "source": [
    "c = np.array([[[1, 2],[4, 5]], [[6, 7], [8, 9]]])    #3D Array -> tensor\n",
    "print(c)"
   ]
  },
  {
   "cell_type": "code",
   "execution_count": 305,
   "id": "9f23d6fd",
   "metadata": {},
   "outputs": [
    {
     "name": "stdout",
     "output_type": "stream",
     "text": [
      "4\n",
      "int32\n",
      "1\n",
      "(3,)\n",
      "6\n"
     ]
    }
   ],
   "source": [
    "#ARRAY ATTRIBUTES\n",
    "\n",
    "a = np.array([1,2,3])\n",
    "\n",
    "print(a.itemsize)        #size of item (in byte)\n",
    "print(a.dtype)           #type of item \n",
    "print(a.ndim)            #number of dimension\n",
    "print(a.shape)           #shape of array\n",
    "print(b.size)            #no. of items in array"
   ]
  },
  {
   "cell_type": "code",
   "execution_count": 306,
   "id": "3e5046ff",
   "metadata": {},
   "outputs": [
    {
     "name": "stdout",
     "output_type": "stream",
     "text": [
      "4\n",
      "int32\n",
      "2\n",
      "(2, 3)\n",
      "6\n"
     ]
    }
   ],
   "source": [
    "b = np.array([[1, 2, 3] , [3, 4, 5]])\n",
    "\n",
    "print(b.itemsize)        #size of item (in byte)\n",
    "print(b.dtype)           #type of item \n",
    "print(b.ndim)            #number of dimension\n",
    "print(b.shape)           #shape of array\n",
    "print(b.size)            #no. of items in array"
   ]
  },
  {
   "cell_type": "code",
   "execution_count": 309,
   "id": "c9190f1d",
   "metadata": {},
   "outputs": [
    {
     "name": "stdout",
     "output_type": "stream",
     "text": [
      "[2. 3. 1.]\n",
      "float64\n",
      "8\n"
     ]
    }
   ],
   "source": [
    "b = np.array([2.0, 3, 1.0])\n",
    "print(b)\n",
    "print(b.dtype)\n",
    "print(b.itemsize)"
   ]
  },
  {
   "cell_type": "code",
   "execution_count": 310,
   "id": "c39f4b75",
   "metadata": {},
   "outputs": [
    {
     "name": "stdout",
     "output_type": "stream",
     "text": [
      "float32\n",
      "4\n"
     ]
    }
   ],
   "source": [
    "b = np.array([1.0, 2.0, 3.0], dtype = np.float32)      #OR, b.astype(np.float32)\n",
    "print(b.dtype)\n",
    "print(b.itemsize)"
   ]
  },
  {
   "cell_type": "code",
   "execution_count": 311,
   "id": "0585c29a",
   "metadata": {},
   "outputs": [
    {
     "name": "stdout",
     "output_type": "stream",
     "text": [
      "28\n",
      "280\n"
     ]
    }
   ],
   "source": [
    "# MEMORY SPACE\n",
    "\n",
    "import sys\n",
    "\n",
    "arr = np.array([1, 2, 3, 4, 5, 6, 7, 8, 9, 10])\n",
    "list = [1, 2, 3, 4, 5, 6, 7, 8, 9, 10]\n",
    "\n",
    "print(sys.getsizeof(arr[0] * len(arr)))\n",
    "print(sys.getsizeof(list[6]) * len(list))"
   ]
  },
  {
   "cell_type": "code",
   "execution_count": 312,
   "id": "6bb38464",
   "metadata": {},
   "outputs": [
    {
     "name": "stdout",
     "output_type": "stream",
     "text": [
      "1\n",
      "8\n",
      "8\n"
     ]
    }
   ],
   "source": [
    "# ARRAY INDEXING\n",
    "\n",
    "a = np.array([1, 2, 3, 4])\n",
    "print(a[0])\n",
    "\n",
    "b = np.array([[1, 2, 3, 4], [5, 6, 7, 8]])\n",
    "print(b[1,3])\n",
    "\n",
    "c= np.array([[[1, 2],[4, 5]], [[6, 7], [8, 9]]])\n",
    "print(c[1, 1, 0])\n",
    "\n",
    "#print(c[0,1,0])"
   ]
  },
  {
   "cell_type": "code",
   "execution_count": 314,
   "id": "cf96cd95",
   "metadata": {},
   "outputs": [
    {
     "name": "stdout",
     "output_type": "stream",
     "text": [
      "1\n",
      "2\n",
      "3\n",
      "4\n",
      "5\n",
      "6\n"
     ]
    }
   ],
   "source": [
    "# ITERATING EVERY ELEMENTS\n",
    "\n",
    "a = np.array([1, 2, 3, 4, 5, 6])\n",
    "for i in a:\n",
    "    print(i)"
   ]
  },
  {
   "cell_type": "code",
   "execution_count": 317,
   "id": "7e8e3426",
   "metadata": {},
   "outputs": [
    {
     "name": "stdout",
     "output_type": "stream",
     "text": [
      "1\n",
      "2\n",
      "4\n",
      "5\n",
      "6\n",
      "7\n",
      "8\n",
      "9\n"
     ]
    }
   ],
   "source": [
    "a = np.array([[[1, 2],[4, 5]], [[6, 7], [8, 9]]])\n",
    "for i in a:\n",
    "    for j in i:\n",
    "        for k in j:\n",
    "            print(k)"
   ]
  },
  {
   "cell_type": "code",
   "execution_count": 318,
   "id": "f0cc9846",
   "metadata": {},
   "outputs": [
    {
     "name": "stdout",
     "output_type": "stream",
     "text": [
      "1\n",
      "2\n",
      "3\n",
      "4\n",
      "5\n",
      "6\n",
      "7\n",
      "8\n",
      "9\n"
     ]
    }
   ],
   "source": [
    "# Iterate using nditer\n",
    "\n",
    "a = np.array([[1, 2, 3], [4, 5, 6], [7, 8, 9]])\n",
    "for x in np.nditer(a):             \n",
    "    print(x)"
   ]
  },
  {
   "cell_type": "code",
   "execution_count": 322,
   "id": "bfa306dc",
   "metadata": {},
   "outputs": [
    {
     "name": "stdout",
     "output_type": "stream",
     "text": [
      "[2 4 6 8]\n",
      "[[ 1  2]\n",
      " [ 3  4]\n",
      " [ 5  6]\n",
      " [ 7  8]\n",
      " [ 9 10]]\n",
      "[[[[[ 0  1]\n",
      "    [ 2  3]]\n",
      "\n",
      "   [[ 4  5]\n",
      "    [ 6  7]]]\n",
      "\n",
      "\n",
      "  [[[ 8  9]\n",
      "    [10 11]]\n",
      "\n",
      "   [[12 13]\n",
      "    [14 15]]]]\n",
      "\n",
      "\n",
      "\n",
      " [[[[16 17]\n",
      "    [18 19]]\n",
      "\n",
      "   [[20 21]\n",
      "    [22 23]]]\n",
      "\n",
      "\n",
      "  [[[24 25]\n",
      "    [26 27]]\n",
      "\n",
      "   [[28 29]\n",
      "    [30 31]]]]]\n"
     ]
    }
   ],
   "source": [
    "# ARANGE\n",
    "m1 = np.arange(2, 10, 2)     #similar to range function\n",
    "print(m1)\n",
    "#reshaping the matrix\n",
    "m2 = np.arange(1, 11).reshape(5, 2)\n",
    "print(m2)\n",
    "\n",
    "#higher dimensional matrix\n",
    "mn = np.arange(32).reshape(2,2,2,2,2)\n",
    "print(mn)"
   ]
  },
  {
   "cell_type": "code",
   "execution_count": 323,
   "id": "490dda45",
   "metadata": {},
   "outputs": [
    {
     "name": "stdout",
     "output_type": "stream",
     "text": [
      "[[0.68344883 0.878333   0.56432441 0.09691104]\n",
      " [0.97530953 0.74031925 0.12833868 0.19439487]]\n"
     ]
    }
   ],
   "source": [
    "#RANDOM\n",
    "\n",
    "m3 = np.random.random((2,4))  #gives 2*4 matrix of random number between 0 and 1\n",
    "print(m3)"
   ]
  },
  {
   "cell_type": "code",
   "execution_count": 325,
   "id": "64e67f28",
   "metadata": {},
   "outputs": [
    {
     "name": "stdout",
     "output_type": "stream",
     "text": [
      "[[97 37 55 53]\n",
      " [39 67 96 74]\n",
      " [21 66 19 62]]\n"
     ]
    }
   ],
   "source": [
    "print(np.random.randint(1, 100, size=(3,4)))"
   ]
  },
  {
   "cell_type": "code",
   "execution_count": 326,
   "id": "56250f1b",
   "metadata": {},
   "outputs": [
    {
     "name": "stdout",
     "output_type": "stream",
     "text": [
      "[0 0 1 1 2 1 2 2 0 2]\n"
     ]
    }
   ],
   "source": [
    "print(np.random.choice([0,1,2],size=10))"
   ]
  },
  {
   "cell_type": "code",
   "execution_count": 329,
   "id": "ebfb2698",
   "metadata": {},
   "outputs": [
    {
     "name": "stdout",
     "output_type": "stream",
     "text": [
      "['0.0' '2.5' '5.0' '7.5' '10.0']\n"
     ]
    }
   ],
   "source": [
    "m4 = np.linspace(0, 10, 5, dtype = int)    #gives equal interval\n",
    "print(m4)"
   ]
  },
  {
   "cell_type": "code",
   "execution_count": 338,
   "id": "497ec965",
   "metadata": {},
   "outputs": [
    {
     "name": "stdout",
     "output_type": "stream",
     "text": [
      "[[4 6 2 6 6 4 6 6 4 4]\n",
      " [4 4 6 6 6 6 6 6 6 4]\n",
      " [4 4 6 6 4 6 6 6 6 4]\n",
      " [6 6 6 6 6 6 6 6 4 6]\n",
      " [6 6 6 6 6 6 4 4 6 6]\n",
      " [6 4 6 6 4 4 4 6 6 6]\n",
      " [6 4 6 6 6 6 4 2 6 4]\n",
      " [6 6 6 6 6 6 4 4 4 6]\n",
      " [4 6 4 6 2 6 6 4 6 6]\n",
      " [2 6 6 6 4 2 4 6 6 4]]\n",
      "65\n"
     ]
    }
   ],
   "source": [
    "#DATA DISTRIBUTION\n",
    "\n",
    "m5 = np.random.choice([2, 4, 6, 8], p=[0.1, 0.3, 0.6, 0.0], size=(10, 10))      # p = probability\n",
    "print(m5)"
   ]
  },
  {
   "cell_type": "code",
   "execution_count": 342,
   "id": "ab063ba4",
   "metadata": {},
   "outputs": [
    {
     "name": "stdout",
     "output_type": "stream",
     "text": [
      "[5 1 3 2 4]\n"
     ]
    }
   ],
   "source": [
    "#SHUFFLING THE ELEMENTS OF ARRAY\n",
    "\n",
    "arr = np.array([1, 2, 3, 4, 5])\n",
    "print(np.random.permutation(arr))"
   ]
  },
  {
   "cell_type": "code",
   "execution_count": 348,
   "id": "215685d6",
   "metadata": {},
   "outputs": [
    {
     "name": "stdout",
     "output_type": "stream",
     "text": [
      "[2 3 4 5]\n"
     ]
    }
   ],
   "source": [
    "# ARRAY SLICING OF 1D\n",
    "\n",
    "a = np.array([1, 2, 3, 4, 5, 6, 7, 8, 9])\n",
    "print(a[1:5])"
   ]
  },
  {
   "cell_type": "code",
   "execution_count": 349,
   "id": "f7196c7b",
   "metadata": {},
   "outputs": [
    {
     "name": "stdout",
     "output_type": "stream",
     "text": [
      "[2 3 4 5 6 7 8]\n"
     ]
    }
   ],
   "source": [
    "print(a[1:-1])"
   ]
  },
  {
   "cell_type": "code",
   "execution_count": 350,
   "id": "6af48316",
   "metadata": {},
   "outputs": [
    {
     "name": "stdout",
     "output_type": "stream",
     "text": [
      "[2 4 6]\n"
     ]
    }
   ],
   "source": [
    "print(a[1:7:2])\n",
    "#print(a[::2])"
   ]
  },
  {
   "cell_type": "code",
   "execution_count": 351,
   "id": "b97899d7",
   "metadata": {},
   "outputs": [
    {
     "name": "stdout",
     "output_type": "stream",
     "text": [
      "[6 7]\n"
     ]
    }
   ],
   "source": [
    "# ARRAY SLICING OF 2D\n",
    "\n",
    "b = np.array([[1, 2, 3, 4], [5, 6, 7, 8]])\n",
    "print(b[1, 1:3])"
   ]
  },
  {
   "cell_type": "code",
   "execution_count": 352,
   "id": "2d7a1171",
   "metadata": {},
   "outputs": [
    {
     "name": "stdout",
     "output_type": "stream",
     "text": [
      "[3 7]\n"
     ]
    }
   ],
   "source": [
    "print(b[0:2, 2])"
   ]
  },
  {
   "cell_type": "code",
   "execution_count": 353,
   "id": "58033507",
   "metadata": {},
   "outputs": [
    {
     "name": "stdout",
     "output_type": "stream",
     "text": [
      "[[2 3]\n",
      " [6 7]]\n"
     ]
    }
   ],
   "source": [
    "print(b[0:2, 1:3])"
   ]
  },
  {
   "cell_type": "code",
   "execution_count": 355,
   "id": "33697acb",
   "metadata": {},
   "outputs": [
    {
     "name": "stdout",
     "output_type": "stream",
     "text": [
      "[[[ 1  2  3  4]\n",
      "  [ 4  5  6  7]]\n",
      "\n",
      " [[ 6  7  8  9]\n",
      "  [ 8  9 10 11]]]\n",
      "[[[4 5 6]]]\n"
     ]
    }
   ],
   "source": [
    "#ARRAY SLICING OF 3D\n",
    "\n",
    "c= np.array([[[1, 2, 3, 4],[4, 5, 6, 7]], [[6, 7, 8, 9], [8, 9, 10, 11]]])\n",
    "print(c)\n",
    "print(c[0:1, 1:2, :3])"
   ]
  },
  {
   "cell_type": "code",
   "execution_count": 356,
   "id": "ae944129",
   "metadata": {},
   "outputs": [
    {
     "name": "stdout",
     "output_type": "stream",
     "text": [
      "[[0. 0.]\n",
      " [0. 0.]]\n"
     ]
    }
   ],
   "source": [
    "#MATRIX\n",
    "\n",
    "print(np.zeros((2,2)))#all 0s"
   ]
  },
  {
   "cell_type": "code",
   "execution_count": 357,
   "id": "806bdc75",
   "metadata": {},
   "outputs": [
    {
     "name": "stdout",
     "output_type": "stream",
     "text": [
      "[[1. 1.]\n",
      " [1. 1.]]\n"
     ]
    }
   ],
   "source": [
    "print(np.ones((2,2)))         #all 1s"
   ]
  },
  {
   "cell_type": "code",
   "execution_count": 358,
   "id": "d446088f",
   "metadata": {},
   "outputs": [
    {
     "name": "stdout",
     "output_type": "stream",
     "text": [
      "[[1. 0. 0.]\n",
      " [0. 1. 0.]\n",
      " [0. 0. 1.]]\n"
     ]
    }
   ],
   "source": [
    "print(np.eye(3))              #unitary mat or np.identity(3)"
   ]
  },
  {
   "cell_type": "code",
   "execution_count": 359,
   "id": "4c80ebf7",
   "metadata": {},
   "outputs": [
    {
     "name": "stdout",
     "output_type": "stream",
     "text": [
      "[[17 17]\n",
      " [17 17]]\n"
     ]
    }
   ],
   "source": [
    "print(np.full((2,2),17))      #full of 17"
   ]
  },
  {
   "cell_type": "code",
   "execution_count": 361,
   "id": "0d2b6b23",
   "metadata": {},
   "outputs": [
    {
     "name": "stdout",
     "output_type": "stream",
     "text": [
      "[[[9 9 9 9]\n",
      "  [9 9 9 9]]\n",
      "\n",
      " [[9 9 9 9]\n",
      "  [9 9 9 9]]]\n",
      "[[[ 1  2  3  4]\n",
      "  [ 4  5  6  7]]\n",
      "\n",
      " [[ 6  7  8  9]\n",
      "  [ 8  9 10 11]]]\n"
     ]
    }
   ],
   "source": [
    "print(np.full_like(c, 9)) \n",
    "print(c)"
   ]
  },
  {
   "cell_type": "code",
   "execution_count": 362,
   "id": "8faabb06",
   "metadata": {},
   "outputs": [
    {
     "name": "stdout",
     "output_type": "stream",
     "text": [
      "[[1 2 2 1]\n",
      " [2 3 3 3]]\n",
      "[[1 2]\n",
      " [2 3]\n",
      " [2 1]\n",
      " [3 3]]\n"
     ]
    }
   ],
   "source": [
    "#STACKING MATRIX UP\n",
    "\n",
    "mat1 = np.array([[1,2],[2 , 3]])\n",
    "mat2 = np.array([[2,1],[3 , 3]])\n",
    "print(np.hstack((mat1, mat2)))\n",
    "print(np.vstack((mat1, mat2)))"
   ]
  },
  {
   "cell_type": "code",
   "execution_count": 367,
   "id": "9e5fa388",
   "metadata": {},
   "outputs": [
    {
     "name": "stdout",
     "output_type": "stream",
     "text": [
      "[array([[ 0,  1],\n",
      "       [ 4,  5],\n",
      "       [ 8,  9],\n",
      "       [12, 13]]), array([[ 2,  3],\n",
      "       [ 6,  7],\n",
      "       [10, 11],\n",
      "       [14, 15]])]\n",
      "[array([[0, 1, 2, 3],\n",
      "       [4, 5, 6, 7]]), array([[ 8,  9, 10, 11],\n",
      "       [12, 13, 14, 15]])]\n"
     ]
    }
   ],
   "source": [
    "#SPLITING OF MATRIX\n",
    "\n",
    "m = np.arange(16).reshape(4,4)\n",
    "print(np.hsplit(m, 2))\n",
    "print(np.vsplit(m, 2))"
   ]
  },
  {
   "cell_type": "code",
   "execution_count": 369,
   "id": "61d167f1",
   "metadata": {},
   "outputs": [
    {
     "name": "stdout",
     "output_type": "stream",
     "text": [
      "(array([0, 2, 4, 6], dtype=int64),)\n"
     ]
    }
   ],
   "source": [
    "#ARRAY SEARCH\n",
    "\n",
    "arr = np.array([1, 2, 3, 4, 5, 6, 7, 8])\n",
    "x = np.where(arr%2 != 0)         #gives index of the condn\n",
    "print(x)    "
   ]
  },
  {
   "cell_type": "code",
   "execution_count": null,
   "id": "a7a9ca2a",
   "metadata": {},
   "outputs": [],
   "source": [
    "z = np.array([[1,2],[3,4],[5,6]])\n",
    "print(z)\n",
    "\n",
    "bool_indx = z > 3 \n",
    "print(bool_indx)      #give boolen values in the index of elements"
   ]
  },
  {
   "cell_type": "code",
   "execution_count": null,
   "id": "c697d515",
   "metadata": {},
   "outputs": [],
   "source": [
    "print(z[bool_indx])   #gives items of 'True' boolean"
   ]
  },
  {
   "cell_type": "code",
   "execution_count": null,
   "id": "dc5210bd",
   "metadata": {},
   "outputs": [],
   "source": [
    "print(np.where(z>3, z, -1))    #in place of 'False', gives given element"
   ]
  },
  {
   "cell_type": "code",
   "execution_count": null,
   "id": "9fae2b39",
   "metadata": {},
   "outputs": [],
   "source": [
    "#SORING THE MATRIX ELEMENTS\n",
    "\n",
    "a = np.array([5, 7, 1, 4, 9, 0, 1])\n",
    "print(np.sort(a))\n",
    "\n",
    "arr = np.array([[3, 2, 4], [5, 0, 1]])\n",
    "print(np.sort(arr))"
   ]
  },
  {
   "cell_type": "code",
   "execution_count": 242,
   "id": "e01f6df6",
   "metadata": {},
   "outputs": [],
   "source": [
    "#MATRIX_OPERATIONS\n",
    "\n",
    "m = np.array([[2, 2],[4, 3]])\n",
    "print(np.transpose(m))  #or print(m2.T)"
   ]
  },
  {
   "cell_type": "code",
   "execution_count": null,
   "id": "82c7e8c4",
   "metadata": {},
   "outputs": [],
   "source": [
    "print(np.linalg.det(m))    #determinant of a matricx"
   ]
  },
  {
   "cell_type": "code",
   "execution_count": 222,
   "id": "a6ef76de",
   "metadata": {},
   "outputs": [],
   "source": [
    "print(np.linalg.inv(m)) #inverse"
   ]
  },
  {
   "cell_type": "code",
   "execution_count": 223,
   "id": "311a3794",
   "metadata": {},
   "outputs": [],
   "source": [
    "print(np.diag(m))    #diagonal"
   ]
  },
  {
   "cell_type": "code",
   "execution_count": null,
   "id": "9a04c59f",
   "metadata": {},
   "outputs": [],
   "source": [
    "print(m.flatten())     #give 1D array OR m.ravel()\n",
    "\n",
    "#v = np.arange(1, 9).reshape(2, 2, 2)\n",
    "#print(v)\n",
    "#print(v.flatten())"
   ]
  },
  {
   "cell_type": "code",
   "execution_count": 241,
   "id": "614869b1",
   "metadata": {},
   "outputs": [],
   "source": [
    "m1 = np.array([[2, 2],[2, 3]])\n",
    "m2 = np.array([[1, 2],[3, 2]])"
   ]
  },
  {
   "cell_type": "code",
   "execution_count": null,
   "id": "4d530665",
   "metadata": {},
   "outputs": [],
   "source": [
    "#Arithmetic Operation\n",
    "\n",
    "#addition/substraction\n",
    "print(2 + m1)\n",
    "print(m1 + m2)"
   ]
  },
  {
   "cell_type": "code",
   "execution_count": null,
   "id": "f8c364bf",
   "metadata": {},
   "outputs": [],
   "source": [
    "#Multiplication/divison\n",
    "\n",
    "print(2 * m1)\n",
    "print(m1 * m2)"
   ]
  },
  {
   "cell_type": "code",
   "execution_count": null,
   "id": "dc990c0b",
   "metadata": {},
   "outputs": [],
   "source": [
    "#Dot Product\n",
    "\n",
    "print(np.dot(m1,m2))     # OR print(m1 @ m2)"
   ]
  },
  {
   "cell_type": "code",
   "execution_count": 240,
   "id": "b1c87c3c",
   "metadata": {},
   "outputs": [],
   "source": [
    "#ARRAY FUNCTION\n",
    "\n",
    "m = np.random.randint(1, 100, (3,3))\n",
    "print(m)"
   ]
  },
  {
   "cell_type": "code",
   "execution_count": null,
   "id": "7e653142",
   "metadata": {},
   "outputs": [],
   "source": [
    "print(np.max(m))\n",
    "print(np.min(m))\n",
    "print(np.sum(m))\n",
    "print(np.prod(m))      #product"
   ]
  },
  {
   "cell_type": "code",
   "execution_count": null,
   "id": "d8ac72cf",
   "metadata": {},
   "outputs": [],
   "source": [
    "print(np.max(m, axis=0))   #axis=0 -> column \n",
    "print(np.min(m, axis=1))   #axis=1 -> row"
   ]
  },
  {
   "cell_type": "code",
   "execution_count": 239,
   "id": "c39ca408",
   "metadata": {},
   "outputs": [],
   "source": [
    "#STAT(MEAN/MEDIAN/STD/VAR)\n",
    "\n",
    "print(np.mean(m))\n",
    "print(np.median(m))\n",
    "print(np.std(m))\n",
    "print(np.var(m))"
   ]
  },
  {
   "cell_type": "code",
   "execution_count": 238,
   "id": "39bec23f",
   "metadata": {},
   "outputs": [],
   "source": [
    "#EIGEN VALUE\n",
    "\n",
    "m = np.array([[1,2],[2,1]])\n",
    "eig_val, eig_vec = np.linalg.eig(m)\n",
    "print(eig_val)\n",
    "print(eig_vec)"
   ]
  },
  {
   "cell_type": "code",
   "execution_count": 237,
   "id": "29d01222",
   "metadata": {},
   "outputs": [],
   "source": [
    "#SOLVING LINEAR EQUATION\n",
    "\n",
    "#3x + y = 21\n",
    "#2x + 3y = 28\n",
    "\n",
    "coff = np.array([[3, 1], [2, 3]])\n",
    "cont = np.array([21, 28])\n",
    "soln = np.linalg.solve(coff, cont)\n",
    "print(soln)"
   ]
  },
  {
   "cell_type": "code",
   "execution_count": null,
   "id": "f813f7f4",
   "metadata": {},
   "outputs": [],
   "source": []
  }
 ],
 "metadata": {
  "kernelspec": {
   "display_name": "Python 3",
   "language": "python",
   "name": "python3"
  },
  "language_info": {
   "codemirror_mode": {
    "name": "ipython",
    "version": 3
   },
   "file_extension": ".py",
   "mimetype": "text/x-python",
   "name": "python",
   "nbconvert_exporter": "python",
   "pygments_lexer": "ipython3",
   "version": "3.12.3"
  }
 },
 "nbformat": 4,
 "nbformat_minor": 5
}
